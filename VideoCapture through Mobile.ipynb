{
 "cells": [
  {
   "cell_type": "code",
   "execution_count": 11,
   "metadata": {},
   "outputs": [],
   "source": [
    "#first download IP WEBCAM Application in you mobile and run the server\n",
    "import requests # to receive request form Ip Webcam APP and converting them to array\n",
    "import cv2\n",
    "import numpy as np\n",
    "url = \"http://10.152.53.169:8080/shot.jpg\" #shot.jpg already define for taking one shot \n",
    "# url taken from IP WEbcam Screen IPv4 and change it if you want to connect to you pc's screen  \n",
    "while True:\n",
    "    img_resp = requests.get(url)\n",
    "    img_arr = np.array(bytearray(img_resp.content),dtype=np.uint8)\n",
    "    img = cv2.imdecode(img_arr, -1)\n",
    "    img=cv2.resize(img, [1000,500])\n",
    "    cv2.imshow('AndroidCam',img)\n",
    "    if cv2.waitKey(10) == 13:\n",
    "        break\n",
    "cv2.destroyAllWindows()"
   ]
  },
  {
   "cell_type": "code",
   "execution_count": null,
   "metadata": {},
   "outputs": [],
   "source": []
  }
 ],
 "metadata": {
  "kernelspec": {
   "display_name": "Python 3",
   "language": "python",
   "name": "python3"
  },
  "language_info": {
   "codemirror_mode": {
    "name": "ipython",
    "version": 3
   },
   "file_extension": ".py",
   "mimetype": "text/x-python",
   "name": "python",
   "nbconvert_exporter": "python",
   "pygments_lexer": "ipython3",
   "version": "3.8.5"
  }
 },
 "nbformat": 4,
 "nbformat_minor": 4
}
