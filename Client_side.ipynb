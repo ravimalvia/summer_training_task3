{
 "cells": [
  {
   "cell_type": "markdown",
   "metadata": {},
   "source": [
    "### Client side"
   ]
  },
  {
   "cell_type": "code",
   "execution_count": null,
   "metadata": {},
   "outputs": [],
   "source": [
    "import requests # take request from IP WEBCAM and decode data and show the vid or photo data on computer screen \n",
    "import cv2\n",
    "import numpy as np\n",
    "import socket\n",
    "import pickle # this pickle library provide function to convert data into bytes stream\n",
    "\n",
    "s= socket.socket(socket.AF_INET, socket.SOCK_STREAM )\n",
    "# AF_INET corresponds to IPv4( means AddressFormat for Internet network IPv4 ) \n",
    "# SOCK_STREAM corresponds to TCP\n",
    "\n",
    "hostname= socket.gethostname()\n",
    "host= socket.gethostbyname(hostname)\n",
    "print(socket.gethostbyname(hostname))\n",
    "\n",
    "url = \"http://10.182.111.45:8080/shot.jpg\" # url of IP-WEB cam application \n",
    "\n",
    "s.connect((host, 10001)) #for connecting to server\n",
    "print(\"you are connected to server\")\n",
    "while True:\n",
    "    recv= s.recv(10000000)\n",
    "    print(\" Bytes received form server\")\n",
    "\n",
    "    img_resp = requests.get(url) #taking request from IP WebCam \n",
    "    img_arr = np.array(bytearray(img_resp.content),dtype=np.uint8) #convert to array\n",
    "    img = cv2.imdecode(img_arr, -1) #decode array \n",
    "    img=cv2.resize(img, [700,500])\n",
    "    ret, send_encoded= cv2.imencode(\".jpg\",img) #encode the img data to send to server\n",
    "    vid_bytes=pickle.dumps(send_encoded) #convert to bytes stream\n",
    "    print(len(vid_bytes)\n",
    "    s.send(vid_bytes) # send to server\n",
    "    \n",
    "    if recv != 0:\n",
    "        encoded_recv=pickle.loads(recv) #received data from server load on the client \n",
    "        print(\"encoded_data has been received from server and loaded \")\n",
    "        img=cv2.imdecode(encoded_recv, cv2.IMREAD_COLOR) #decoding the data\n",
    "        print(\"server data has been decode which send by server\")\n",
    "        cv2.putText(img,\"Client\",(20,40),cv2.FONT_HERSHEY_SIMPLEX, 1 ,(255,255,255),2)\n",
    "        cv2.imshow('this is Client and data Received from server',img)\n",
    "        if cv2.waitKey(5) == 13:\n",
    "            break\n",
    "    else:\n",
    "        print(\"can't receive from server\")\n",
    "cv2.destroyAllWindows()"
   ]
  },
  {
   "cell_type": "code",
   "execution_count": null,
   "metadata": {},
   "outputs": [],
   "source": []
  },
  {
   "cell_type": "code",
   "execution_count": null,
   "metadata": {},
   "outputs": [],
   "source": []
  },
  {
   "cell_type": "code",
   "execution_count": null,
   "metadata": {},
   "outputs": [],
   "source": []
  },
  {
   "cell_type": "code",
   "execution_count": null,
   "metadata": {},
   "outputs": [],
   "source": []
  },
  {
   "cell_type": "code",
   "execution_count": null,
   "metadata": {},
   "outputs": [],
   "source": []
  },
  {
   "cell_type": "code",
   "execution_count": null,
   "metadata": {},
   "outputs": [],
   "source": []
  },
  {
   "cell_type": "code",
   "execution_count": null,
   "metadata": {},
   "outputs": [],
   "source": []
  },
  {
   "cell_type": "code",
   "execution_count": null,
   "metadata": {},
   "outputs": [],
   "source": []
  },
  {
   "cell_type": "code",
   "execution_count": null,
   "metadata": {},
   "outputs": [],
   "source": []
  }
 ],
 "metadata": {
  "kernelspec": {
   "display_name": "Python 3",
   "language": "python",
   "name": "python3"
  },
  "language_info": {
   "codemirror_mode": {
    "name": "ipython",
    "version": 3
   },
   "file_extension": ".py",
   "mimetype": "text/x-python",
   "name": "python",
   "nbconvert_exporter": "python",
   "pygments_lexer": "ipython3",
   "version": "3.8.5"
  }
 },
 "nbformat": 4,
 "nbformat_minor": 4
}
