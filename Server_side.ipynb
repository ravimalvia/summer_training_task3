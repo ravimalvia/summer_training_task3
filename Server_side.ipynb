{
 "cells": [
  {
   "cell_type": "markdown",
   "metadata": {},
   "source": [
    "### Server Side"
   ]
  },
  {
   "cell_type": "code",
   "execution_count": null,
   "metadata": {},
   "outputs": [],
   "source": [
    "import socket\n",
    "import cv2\n",
    "import pickle # this pickle library provide function to convert data into bytes stream\n",
    "\n",
    "\n",
    "cap=cv2.VideoCapture(0)\n",
    "soc= socket.socket(socket.AF_INET, socket.SOCK_STREAM )\n",
    "soc.setsockopt(socket.SOL_SOCKET,socket.SO_REUSEADDR,1)\n",
    "# AF_INET corresponds to IPv4( means AddressFormat for Internet network IPv4 ) \n",
    "# SOCK_STREAM corresponds to TCP\n",
    "hostname= socket.gethostname()\n",
    "print(hostname)\n",
    "host=socket.gethostbyname(hostname)\n",
    "print(host)\n",
    "soc.bind((host, 10001)) #socket binding\n",
    "print(\"socket is binded\")\n",
    "soc.listen() #listen is any client want to connect\n",
    "print(\"host ip {}\".format(host))\n",
    "\n",
    "obj, address= soc.accept()\n",
    "print(\"client ip is {}\".format(address))\n",
    "\n",
    "while True:\n",
    "    ret, cam= cap.read()\n",
    "    ret, send_encoded = cv2.imencode(\".jpg\", cam)\n",
    "    print(\"encoded and ready to convert in bytes and send to client\")\n",
    "    vid_bytes=pickle.dumps(send_encoded )# python objects (list, dict, etc.) into byte streams (0s and 1s)\n",
    "    obj.send(vid_bytes)\n",
    "    recv_encoded = obj.recv(10000000)\n",
    "    print(\"encoded data is received from client\")\n",
    "    if recv_encoded != 0:\n",
    "        data_recv = pickle.loads(recv_encoded)\n",
    "        recved =cv2.imdecode(data_recv, cv2.IMREAD_COLOR)# covert image to BGR color format\n",
    "        print(\"data has been decoded which is send by client\")\n",
    "        cv2.putText(recved,\"Server\",(20,40),cv2.FONT_HERSHEY_SIMPLEX, 1 ,(255,255,255),2)\n",
    "        cv2.imshow(\"this is server and data receive from client\", recved)\n",
    "        if cv2.waitKey(5) == 13:\n",
    "            break\n",
    "            \n",
    "    else:\n",
    "        print(\"can't receive from client\")\n",
    "cv2.destroyAllWindows()"
   ]
  },
  {
   "cell_type": "code",
   "execution_count": null,
   "metadata": {},
   "outputs": [],
   "source": []
  },
  {
   "cell_type": "code",
   "execution_count": null,
   "metadata": {},
   "outputs": [],
   "source": []
  },
  {
   "cell_type": "code",
   "execution_count": null,
   "metadata": {},
   "outputs": [],
   "source": []
  },
  {
   "cell_type": "code",
   "execution_count": null,
   "metadata": {},
   "outputs": [],
   "source": []
  },
  {
   "cell_type": "code",
   "execution_count": null,
   "metadata": {},
   "outputs": [],
   "source": []
  }
 ],
 "metadata": {
  "kernelspec": {
   "display_name": "Python 3",
   "language": "python",
   "name": "python3"
  },
  "language_info": {
   "codemirror_mode": {
    "name": "ipython",
    "version": 3
   },
   "file_extension": ".py",
   "mimetype": "text/x-python",
   "name": "python",
   "nbconvert_exporter": "python",
   "pygments_lexer": "ipython3",
   "version": "3.8.5"
  }
 },
 "nbformat": 4,
 "nbformat_minor": 4
}
